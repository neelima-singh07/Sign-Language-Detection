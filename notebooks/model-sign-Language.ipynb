{
 "cells": [
  {
   "cell_type": "markdown",
   "id": "e51fd547-c439-4c12-bd3c-4349a819f0b2",
   "metadata": {},
   "source": [
    "# Imports"
   ]
  },
  {
   "cell_type": "code",
   "execution_count": 1,
   "id": "fffb6343",
   "metadata": {},
   "outputs": [
    {
     "name": "stdout",
     "output_type": "stream",
     "text": [
      "TensorFlow: 2.15.0\n",
      "OpenCV: 4.11.0.86\n",
      "NumPy: 1.26.4\n",
      "Pillow: 11.3.0\n",
      "SciPy: 1.15.3\n",
      "WARNING:tensorflow:From c:\\Users\\SAMA\\Downloads\\Sign-Language-Detection\\venv_py310\\lib\\site-packages\\keras\\src\\losses.py:2976: The name tf.losses.sparse_softmax_cross_entropy is deprecated. Please use tf.compat.v1.losses.sparse_softmax_cross_entropy instead.\n",
      "\n",
      "WARNING:tensorflow:From c:\\Users\\SAMA\\Downloads\\Sign-Language-Detection\\venv_py310\\lib\\site-packages\\keras\\src\\losses.py:2976: The name tf.losses.sparse_softmax_cross_entropy is deprecated. Please use tf.compat.v1.losses.sparse_softmax_cross_entropy instead.\n",
      "\n",
      "tf version: 2.15.0\n",
      "scipy version: 1.15.3\n",
      "tf version: 2.15.0\n",
      "scipy version: 1.15.3\n"
     ]
    }
   ],
   "source": [
    "import pkg_resources\n",
    "installed_packages = {pkg.key: pkg.version for pkg in pkg_resources.working_set}\n",
    "print(\"TensorFlow:\", installed_packages.get(\"tensorflow\"))\n",
    "print(\"OpenCV:\", installed_packages.get(\"opencv-python\"))\n",
    "print(\"NumPy:\", installed_packages.get(\"numpy\"))\n",
    "print(\"Pillow:\", installed_packages.get(\"pillow\"))\n",
    "print(\"SciPy:\", installed_packages.get(\"scipy\"))\n",
    "\n",
    "import tensorflow as tf\n",
    "import scipy\n",
    "print(\"tf version:\", tf.__version__)\n",
    "print(\"scipy version:\", scipy.__version__)"
   ]
  },
  {
   "cell_type": "code",
   "execution_count": 2,
   "id": "8f21e47b-0c5d-49ee-8cd7-95bbaee29ef0",
   "metadata": {},
   "outputs": [],
   "source": [
    "\n",
    "import tensorflow as tf\n",
    "from tensorflow.keras.models import Sequential\n",
    "from tensorflow.keras.layers import Conv2D,MaxPooling2D,Dense,Flatten,Dropout\n",
    "from tensorflow.keras.preprocessing.image import ImageDataGenerator\n",
    "from keras import Input\n",
    "import scipy"
   ]
  },
  {
   "cell_type": "markdown",
   "id": "1e2d965e-5326-4663-9bea-16b43f9e0b16",
   "metadata": {},
   "source": [
    "# Dataset Preparation"
   ]
  },
  {
   "cell_type": "code",
   "execution_count": 3,
   "id": "deb00e29-ee53-431e-bef9-9063064a1bf1",
   "metadata": {},
   "outputs": [],
   "source": [
    "idg=ImageDataGenerator(rescale=1./255,validation_split=0.2)"
   ]
  },
  {
   "cell_type": "code",
   "execution_count": 5,
   "id": "805ffb30-a324-41a8-8b61-3f751c50d7de",
   "metadata": {},
   "outputs": [
    {
     "name": "stdout",
     "output_type": "stream",
     "text": [
      "Found 2012 images belonging to 36 classes.\n",
      "Found 2515 images belonging to 36 classes.\n",
      "Found 2515 images belonging to 36 classes.\n",
      "{'0': 0, '1': 1, '2': 2, '3': 3, '4': 4, '5': 5, '6': 6, '7': 7, '8': 8, '9': 9, 'a': 10, 'b': 11, 'c': 12, 'd': 13, 'e': 14, 'f': 15, 'g': 16, 'h': 17, 'i': 18, 'j': 19, 'k': 20, 'l': 21, 'm': 22, 'n': 23, 'o': 24, 'p': 25, 'q': 26, 'r': 27, 's': 28, 't': 29, 'u': 30, 'v': 31, 'w': 32, 'x': 33, 'y': 34, 'z': 35}\n",
      "{'0': 0, '1': 1, '2': 2, '3': 3, '4': 4, '5': 5, '6': 6, '7': 7, '8': 8, '9': 9, 'a': 10, 'b': 11, 'c': 12, 'd': 13, 'e': 14, 'f': 15, 'g': 16, 'h': 17, 'i': 18, 'j': 19, 'k': 20, 'l': 21, 'm': 22, 'n': 23, 'o': 24, 'p': 25, 'q': 26, 'r': 27, 's': 28, 't': 29, 'u': 30, 'v': 31, 'w': 32, 'x': 33, 'y': 34, 'z': 35}\n"
     ]
    }
   ],
   "source": [
    "# Train Dataset \n",
    "train_data=idg.flow_from_directory(\n",
    "    r\"C:\\Users\\SAMA\\Downloads\\asl_dataset\",\n",
    "    target_size=(64,64),\n",
    "    batch_size=32,\n",
    "    class_mode='categorical',\n",
    "    subset='training',\n",
    ")\n",
    "\n",
    "\n",
    "datagen = ImageDataGenerator(rescale=1./255)\n",
    "generator = datagen.flow_from_directory(\"C:\\\\Users\\\\SAMA\\\\Downloads\\\\asl_dataset\")\n",
    "print(generator.class_indices)\n"
   ]
  },
  {
   "cell_type": "code",
   "execution_count": 6,
   "id": "98f63ad8-10db-4309-bdb2-8b9c8ebcd6a6",
   "metadata": {},
   "outputs": [
    {
     "name": "stdout",
     "output_type": "stream",
     "text": [
      "Found 503 images belonging to 36 classes.\n"
     ]
    }
   ],
   "source": [
    "# Test dataset \n",
    "test_data=idg.flow_from_directory(\n",
    "    r\"C:\\Users\\SAMA\\Downloads\\asl_dataset\",\n",
    "    batch_size=32,\n",
    "    target_size=(64,64),\n",
    "    class_mode='categorical',\n",
    "    subset='validation',\n",
    "    shuffle=False , # <-- IMPORTANT\n",
    ")"
   ]
  },
  {
   "cell_type": "markdown",
   "id": "db4c93f1-ab72-4dbb-86a2-e1351afd81c9",
   "metadata": {},
   "source": [
    "# Build the CNN Model"
   ]
  },
  {
   "cell_type": "code",
   "execution_count": 8,
   "id": "39698b00-77c0-478c-88e0-9aaa76ca9c74",
   "metadata": {},
   "outputs": [],
   "source": [
    "model=Sequential([\n",
    "    Input(shape=(64, 64, 3)),\n",
    "    Conv2D(32,(3,3),activation='relu'), #Input layer\n",
    "    MaxPooling2D(2,2), # layer 2 \n",
    "\n",
    "    Conv2D(64,(3,3),activation='relu'), #Layer 3\n",
    "    MaxPooling2D(2,2), # layer 4\n",
    "    \n",
    "    Flatten(),#layer5\n",
    "    Dense(128,activation='relu'), #layer 6\n",
    "    Dropout(0.3), #layer 7\n",
    "    Dense(train_data.num_classes,activation='softmax'), # output layer\n",
    "    \n",
    "])\n",
    "#all layers bw input and output are hidden layers"
   ]
  },
  {
   "cell_type": "markdown",
   "id": "9be2c907-c425-4b48-ad79-4a5cb1af2935",
   "metadata": {},
   "source": [
    "# Compile the Model"
   ]
  },
  {
   "cell_type": "code",
   "execution_count": 9,
   "id": "fb27bd38-f672-4813-8bc6-03e49941cf20",
   "metadata": {},
   "outputs": [
    {
     "name": "stdout",
     "output_type": "stream",
     "text": [
      "WARNING:tensorflow:From c:\\Users\\SAMA\\Downloads\\Sign-Language-Detection\\venv_py310\\lib\\site-packages\\keras\\src\\optimizers\\__init__.py:309: The name tf.train.Optimizer is deprecated. Please use tf.compat.v1.train.Optimizer instead.\n",
      "\n"
     ]
    }
   ],
   "source": [
    "\n",
    "model.compile(optimizer='adam', loss='categorical_crossentropy', metrics=['accuracy'])"
   ]
  },
  {
   "cell_type": "markdown",
   "id": "92c35c16-b8bd-4c16-9c2c-f211e0addd4d",
   "metadata": {},
   "source": [
    "# Train the Model"
   ]
  },
  {
   "cell_type": "code",
   "execution_count": 10,
   "id": "4caa7b38-1b51-43d5-8e37-fd3e2852badf",
   "metadata": {},
   "outputs": [
    {
     "name": "stdout",
     "output_type": "stream",
     "text": [
      "Epoch 1/20\n",
      "WARNING:tensorflow:From c:\\Users\\SAMA\\Downloads\\Sign-Language-Detection\\venv_py310\\lib\\site-packages\\keras\\src\\utils\\tf_utils.py:492: The name tf.ragged.RaggedTensorValue is deprecated. Please use tf.compat.v1.ragged.RaggedTensorValue instead.\n",
      "\n",
      "WARNING:tensorflow:From c:\\Users\\SAMA\\Downloads\\Sign-Language-Detection\\venv_py310\\lib\\site-packages\\keras\\src\\engine\\base_layer_utils.py:384: The name tf.executing_eagerly_outside_functions is deprecated. Please use tf.compat.v1.executing_eagerly_outside_functions instead.\n",
      "\n",
      "63/63 [==============================] - 65s 955ms/step - loss: 1.8986 - accuracy: 0.4583 - val_loss: 0.5223 - val_accuracy: 0.7972\n",
      "Epoch 2/20\n",
      "63/63 [==============================] - 10s 166ms/step - loss: 0.5262 - accuracy: 0.8350 - val_loss: 0.4006 - val_accuracy: 0.8807\n",
      "Epoch 3/20\n",
      "63/63 [==============================] - 11s 166ms/step - loss: 0.2730 - accuracy: 0.9145 - val_loss: 0.4257 - val_accuracy: 0.8608\n",
      "Epoch 4/20\n",
      "63/63 [==============================] - 10s 159ms/step - loss: 0.1824 - accuracy: 0.9369 - val_loss: 0.4146 - val_accuracy: 0.8628\n",
      "Epoch 5/20\n",
      "63/63 [==============================] - 10s 163ms/step - loss: 0.1189 - accuracy: 0.9563 - val_loss: 0.4776 - val_accuracy: 0.8887\n",
      "Epoch 6/20\n",
      "63/63 [==============================] - 10s 159ms/step - loss: 0.1097 - accuracy: 0.9607 - val_loss: 0.5286 - val_accuracy: 0.8549\n",
      "Epoch 7/20\n",
      "63/63 [==============================] - 11s 174ms/step - loss: 0.0739 - accuracy: 0.9717 - val_loss: 0.4210 - val_accuracy: 0.8688\n",
      "Epoch 8/20\n",
      "63/63 [==============================] - 11s 171ms/step - loss: 0.0726 - accuracy: 0.9781 - val_loss: 0.4726 - val_accuracy: 0.8688\n",
      "Epoch 9/20\n",
      "63/63 [==============================] - 10s 165ms/step - loss: 0.0587 - accuracy: 0.9791 - val_loss: 0.4746 - val_accuracy: 0.8668\n",
      "Epoch 10/20\n",
      "63/63 [==============================] - 10s 158ms/step - loss: 0.0396 - accuracy: 0.9871 - val_loss: 0.4761 - val_accuracy: 0.8827\n",
      "Epoch 11/20\n",
      "63/63 [==============================] - 11s 177ms/step - loss: 0.0444 - accuracy: 0.9841 - val_loss: 0.4195 - val_accuracy: 0.8946\n",
      "Epoch 12/20\n",
      "63/63 [==============================] - 12s 190ms/step - loss: 0.0304 - accuracy: 0.9911 - val_loss: 0.5355 - val_accuracy: 0.8847\n",
      "Epoch 13/20\n",
      "63/63 [==============================] - 11s 171ms/step - loss: 0.0421 - accuracy: 0.9856 - val_loss: 0.4685 - val_accuracy: 0.8708\n",
      "Epoch 14/20\n",
      "63/63 [==============================] - 10s 162ms/step - loss: 0.0374 - accuracy: 0.9876 - val_loss: 0.5994 - val_accuracy: 0.8946\n",
      "Epoch 15/20\n",
      "63/63 [==============================] - 12s 191ms/step - loss: 0.0410 - accuracy: 0.9856 - val_loss: 0.5136 - val_accuracy: 0.8767\n",
      "Epoch 16/20\n",
      "63/63 [==============================] - 13s 202ms/step - loss: 0.0287 - accuracy: 0.9891 - val_loss: 0.5916 - val_accuracy: 0.8946\n",
      "Epoch 17/20\n",
      "63/63 [==============================] - 13s 204ms/step - loss: 0.0341 - accuracy: 0.9851 - val_loss: 0.4613 - val_accuracy: 0.8867\n",
      "Epoch 18/20\n",
      "63/63 [==============================] - 12s 191ms/step - loss: 0.0309 - accuracy: 0.9891 - val_loss: 0.6484 - val_accuracy: 0.8648\n",
      "Epoch 19/20\n",
      "63/63 [==============================] - 13s 209ms/step - loss: 0.0275 - accuracy: 0.9920 - val_loss: 0.5997 - val_accuracy: 0.8867\n",
      "Epoch 20/20\n",
      "63/63 [==============================] - 12s 193ms/step - loss: 0.0310 - accuracy: 0.9911 - val_loss: 0.5251 - val_accuracy: 0.8966\n"
     ]
    },
    {
     "data": {
      "text/plain": [
       "<keras.src.callbacks.History at 0x22554bfd570>"
      ]
     },
     "execution_count": 10,
     "metadata": {},
     "output_type": "execute_result"
    }
   ],
   "source": [
    "\n",
    "# Model Summary\n",
    "model.fit(train_data,validation_data=test_data,epochs=20)"
   ]
  },
  {
   "cell_type": "markdown",
   "id": "b7248516-0314-413a-b148-0a1123969cb5",
   "metadata": {},
   "source": [
    "# Accuracy score and Confusion Matrix"
   ]
  },
  {
   "cell_type": "code",
   "execution_count": null,
   "id": "5ae56795-2d3a-4e0c-8006-ede8081aa074",
   "metadata": {},
   "outputs": [],
   "source": [
    "\n",
    "\n",
    "\n"
   ]
  },
  {
   "cell_type": "markdown",
   "id": "a9732417-6902-4920-a304-63d51a7f6fff",
   "metadata": {},
   "source": [
    "# Save the model "
   ]
  },
  {
   "cell_type": "code",
   "execution_count": 11,
   "id": "3b1df632-6fe1-4e07-82ab-b68539c5ef2b",
   "metadata": {},
   "outputs": [
    {
     "name": "stderr",
     "output_type": "stream",
     "text": [
      "c:\\Users\\SAMA\\Downloads\\Sign-Language-Detection\\venv_py310\\lib\\site-packages\\keras\\src\\engine\\training.py:3103: UserWarning: You are saving your model as an HDF5 file via `model.save()`. This file format is considered legacy. We recommend using instead the native Keras format, e.g. `model.save('my_model.keras')`.\n",
      "  saving_api.save_model(\n"
     ]
    }
   ],
   "source": [
    "model.save('../models/sign_language_model.h5')"
   ]
  },
  {
   "cell_type": "code",
   "execution_count": null,
   "id": "951ae5be-6946-40bc-8f07-7525f188ed32",
   "metadata": {},
   "outputs": [],
   "source": []
  }
 ],
 "metadata": {
  "kernelspec": {
   "display_name": "venv_py310 (3.10.0)",
   "language": "python",
   "name": "python3"
  },
  "language_info": {
   "codemirror_mode": {
    "name": "ipython",
    "version": 3
   },
   "file_extension": ".py",
   "mimetype": "text/x-python",
   "name": "python",
   "nbconvert_exporter": "python",
   "pygments_lexer": "ipython3",
   "version": "3.10.0"
  }
 },
 "nbformat": 4,
 "nbformat_minor": 5
}
