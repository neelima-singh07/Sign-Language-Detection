{
 "cells": [
  {
   "cell_type": "markdown",
   "id": "e51fd547-c439-4c12-bd3c-4349a819f0b2",
   "metadata": {},
   "source": [
    "# Imports"
   ]
  },
  {
   "cell_type": "code",
   "execution_count": 1,
   "id": "fffb6343",
   "metadata": {},
   "outputs": [
    {
     "name": "stdout",
     "output_type": "stream",
     "text": [
      "TensorFlow: 2.15.0\n",
      "OpenCV: 4.11.0.86\n",
      "NumPy: 1.24.3\n",
      "Matplotlib: 3.10.5\n",
      "Scikit-learn: 1.7.1\n"
     ]
    }
   ],
   "source": [
    "import pkg_resources\n",
    "installed_packages = {pkg.key: pkg.version for pkg in pkg_resources.working_set}\n",
    "print(\"TensorFlow:\", installed_packages.get(\"tensorflow\"))\n",
    "print(\"OpenCV:\", installed_packages.get(\"opencv-python\"))\n",
    "print(\"NumPy:\", installed_packages.get(\"numpy\"))\n",
    "print(\"Matplotlib:\", installed_packages.get(\"matplotlib\"))\n",
    "print(\"Scikit-learn:\", installed_packages.get(\"scikit-learn\"))"
   ]
  },
  {
   "cell_type": "code",
   "execution_count": 3,
   "id": "8f21e47b-0c5d-49ee-8cd7-95bbaee29ef0",
   "metadata": {},
   "outputs": [
    {
     "name": "stdout",
     "output_type": "stream",
     "text": [
      "WARNING:tensorflow:From c:\\Users\\SAMA\\Downloads\\Sign-Language-Detection\\venv_py311\\Lib\\site-packages\\keras\\src\\losses.py:2976: The name tf.losses.sparse_softmax_cross_entropy is deprecated. Please use tf.compat.v1.losses.sparse_softmax_cross_entropy instead.\n",
      "\n"
     ]
    }
   ],
   "source": [
    "import warnings\n",
    "import os\n",
    "os.environ['TF_CPP_MIN_LOG_LEVEL'] = '2'  # Suppress TensorFlow warnings\n",
    "warnings.filterwarnings('ignore')\n",
    "import tensorflow as tf\n",
    "from tensorflow.keras.models import Sequential\n",
    "from tensorflow.keras.layers import Conv2D,MaxPooling2D,Dense,Flatten,Dropout\n",
    "from tensorflow.keras.preprocessing.image import ImageDataGenerator\n",
    "import matplotlib.pyplot as plt \n",
    "from keras import Input"
   ]
  },
  {
   "cell_type": "markdown",
   "id": "1e2d965e-5326-4663-9bea-16b43f9e0b16",
   "metadata": {},
   "source": [
    "# Dataset Preparation"
   ]
  },
  {
   "cell_type": "code",
   "execution_count": 4,
   "id": "deb00e29-ee53-431e-bef9-9063064a1bf1",
   "metadata": {},
   "outputs": [],
   "source": [
    "idg=ImageDataGenerator(rescale=1./255,validation_split=0.2)"
   ]
  },
  {
   "cell_type": "code",
   "execution_count": 5,
   "id": "805ffb30-a324-41a8-8b61-3f751c50d7de",
   "metadata": {},
   "outputs": [
    {
     "name": "stdout",
     "output_type": "stream",
     "text": [
      "Found 1408 images belonging to 44 classes.\n"
     ]
    }
   ],
   "source": [
    "# Train Dataset \n",
    "train_data=idg.flow_from_directory(\n",
    "    r\"C:\\Users\\SAMA\\Downloads\\Sign-Language-Detection\\Dataset\\images for phrases\",\n",
    "    target_size=(64,64),\n",
    "    batch_size=32,\n",
    "    class_mode='categorical',\n",
    "    subset='training',\n",
    ")"
   ]
  },
  {
   "cell_type": "code",
   "execution_count": 6,
   "id": "98f63ad8-10db-4309-bdb2-8b9c8ebcd6a6",
   "metadata": {},
   "outputs": [
    {
     "name": "stdout",
     "output_type": "stream",
     "text": [
      "Found 352 images belonging to 44 classes.\n"
     ]
    }
   ],
   "source": [
    "# Test dataset \n",
    "test_data=idg.flow_from_directory(\n",
    "    r\"C:\\Users\\SAMA\\Downloads\\Sign-Language-Detection\\Dataset\\images for phrases\",\n",
    "    batch_size=32,\n",
    "    target_size=(64,64),\n",
    "    class_mode='categorical',\n",
    "    subset='validation',\n",
    "    shuffle=False , # <-- IMPORTANT\n",
    ")"
   ]
  },
  {
   "cell_type": "markdown",
   "id": "db4c93f1-ab72-4dbb-86a2-e1351afd81c9",
   "metadata": {},
   "source": [
    "# Build the CNN Model"
   ]
  },
  {
   "cell_type": "code",
   "execution_count": 7,
   "id": "39698b00-77c0-478c-88e0-9aaa76ca9c74",
   "metadata": {},
   "outputs": [
    {
     "name": "stdout",
     "output_type": "stream",
     "text": [
      "WARNING:tensorflow:From c:\\Users\\SAMA\\Downloads\\Sign-Language-Detection\\venv_py311\\Lib\\site-packages\\keras\\src\\backend.py:1398: The name tf.executing_eagerly_outside_functions is deprecated. Please use tf.compat.v1.executing_eagerly_outside_functions instead.\n",
      "\n",
      "WARNING:tensorflow:From c:\\Users\\SAMA\\Downloads\\Sign-Language-Detection\\venv_py311\\Lib\\site-packages\\keras\\src\\layers\\pooling\\max_pooling2d.py:161: The name tf.nn.max_pool is deprecated. Please use tf.nn.max_pool2d instead.\n",
      "\n",
      "WARNING:tensorflow:From c:\\Users\\SAMA\\Downloads\\Sign-Language-Detection\\venv_py311\\Lib\\site-packages\\keras\\src\\layers\\pooling\\max_pooling2d.py:161: The name tf.nn.max_pool is deprecated. Please use tf.nn.max_pool2d instead.\n",
      "\n"
     ]
    }
   ],
   "source": [
    "model=Sequential([\n",
    "    Input(shape=(64, 64, 3)),\n",
    "    Conv2D(32,(3,3),activation='relu'), #Input layer\n",
    "    MaxPooling2D(2,2), # layer 2 \n",
    "\n",
    "    Conv2D(64,(3,3),activation='relu'), #Layer 3\n",
    "    MaxPooling2D(2,2), # layer 4\n",
    "    \n",
    "    Flatten(),#layer5\n",
    "    Dense(128,activation='relu'), #layer 6\n",
    "    Dropout(0.3), #layer 7\n",
    "    Dense(train_data.num_classes,activation='softmax'), # output layer\n",
    "    \n",
    "])\n",
    "#all layers bw input and output are hidden layers"
   ]
  },
  {
   "cell_type": "markdown",
   "id": "9be2c907-c425-4b48-ad79-4a5cb1af2935",
   "metadata": {},
   "source": [
    "# Compile the Model"
   ]
  },
  {
   "cell_type": "code",
   "execution_count": 8,
   "id": "fb27bd38-f672-4813-8bc6-03e49941cf20",
   "metadata": {},
   "outputs": [
    {
     "name": "stdout",
     "output_type": "stream",
     "text": [
      "WARNING:tensorflow:From c:\\Users\\SAMA\\Downloads\\Sign-Language-Detection\\venv_py311\\Lib\\site-packages\\keras\\src\\optimizers\\__init__.py:309: The name tf.train.Optimizer is deprecated. Please use tf.compat.v1.train.Optimizer instead.\n",
      "\n"
     ]
    }
   ],
   "source": [
    "\n",
    "model.compile(optimizer='adam', loss='categorical_crossentropy', metrics=['accuracy'])"
   ]
  },
  {
   "cell_type": "markdown",
   "id": "92c35c16-b8bd-4c16-9c2c-f211e0addd4d",
   "metadata": {},
   "source": [
    "# Train the Model"
   ]
  },
  {
   "cell_type": "code",
   "execution_count": 17,
   "id": "4caa7b38-1b51-43d5-8e37-fd3e2852badf",
   "metadata": {},
   "outputs": [
    {
     "name": "stderr",
     "output_type": "stream",
     "text": [
      "C:\\Users\\SAMA\\anaconda3\\Lib\\site-packages\\keras\\src\\trainers\\data_adapters\\py_dataset_adapter.py:121: UserWarning: Your `PyDataset` class should call `super().__init__(**kwargs)` in its constructor. `**kwargs` can include `workers`, `use_multiprocessing`, `max_queue_size`. Do not pass these arguments to `fit()`, as they will be ignored.\n",
      "  self._warn_if_super_not_called()\n"
     ]
    },
    {
     "name": "stdout",
     "output_type": "stream",
     "text": [
      "Epoch 1/20\n",
      "\u001b[1m45/45\u001b[0m \u001b[32m━━━━━━━━━━━━━━━━━━━━\u001b[0m\u001b[37m\u001b[0m \u001b[1m65s\u001b[0m 1s/step - accuracy: 0.1936 - loss: 3.2640 - val_accuracy: 0.6193 - val_loss: 1.6876\n",
      "Epoch 2/20\n",
      "\u001b[1m45/45\u001b[0m \u001b[32m━━━━━━━━━━━━━━━━━━━━\u001b[0m\u001b[37m\u001b[0m \u001b[1m31s\u001b[0m 682ms/step - accuracy: 0.7340 - loss: 0.9472 - val_accuracy: 0.9403 - val_loss: 0.3255\n",
      "Epoch 3/20\n",
      "\u001b[1m45/45\u001b[0m \u001b[32m━━━━━━━━━━━━━━━━━━━━\u001b[0m\u001b[37m\u001b[0m \u001b[1m34s\u001b[0m 765ms/step - accuracy: 0.9454 - loss: 0.2382 - val_accuracy: 0.9659 - val_loss: 0.1735\n",
      "Epoch 4/20\n",
      "\u001b[1m45/45\u001b[0m \u001b[32m━━━━━━━━━━━━━━━━━━━━\u001b[0m\u001b[37m\u001b[0m \u001b[1m32s\u001b[0m 704ms/step - accuracy: 0.9773 - loss: 0.1096 - val_accuracy: 0.9744 - val_loss: 0.1493\n",
      "Epoch 5/20\n",
      "\u001b[1m45/45\u001b[0m \u001b[32m━━━━━━━━━━━━━━━━━━━━\u001b[0m\u001b[37m\u001b[0m \u001b[1m35s\u001b[0m 777ms/step - accuracy: 0.9773 - loss: 0.0859 - val_accuracy: 0.9688 - val_loss: 0.1497\n",
      "Epoch 6/20\n",
      "\u001b[1m45/45\u001b[0m \u001b[32m━━━━━━━━━━━━━━━━━━━━\u001b[0m\u001b[37m\u001b[0m \u001b[1m31s\u001b[0m 694ms/step - accuracy: 0.9908 - loss: 0.0406 - val_accuracy: 0.9716 - val_loss: 0.1397\n",
      "Epoch 7/20\n",
      "\u001b[1m45/45\u001b[0m \u001b[32m━━━━━━━━━━━━━━━━━━━━\u001b[0m\u001b[37m\u001b[0m \u001b[1m28s\u001b[0m 626ms/step - accuracy: 0.9950 - loss: 0.0204 - val_accuracy: 0.9716 - val_loss: 0.1735\n",
      "Epoch 8/20\n",
      "\u001b[1m45/45\u001b[0m \u001b[32m━━━━━━━━━━━━━━━━━━━━\u001b[0m\u001b[37m\u001b[0m \u001b[1m30s\u001b[0m 658ms/step - accuracy: 0.9915 - loss: 0.0414 - val_accuracy: 0.9858 - val_loss: 0.1225\n",
      "Epoch 9/20\n",
      "\u001b[1m45/45\u001b[0m \u001b[32m━━━━━━━━━━━━━━━━━━━━\u001b[0m\u001b[37m\u001b[0m \u001b[1m28s\u001b[0m 621ms/step - accuracy: 0.9915 - loss: 0.0327 - val_accuracy: 0.9830 - val_loss: 0.1356\n",
      "Epoch 10/20\n",
      "\u001b[1m45/45\u001b[0m \u001b[32m━━━━━━━━━━━━━━━━━━━━\u001b[0m\u001b[37m\u001b[0m \u001b[1m31s\u001b[0m 680ms/step - accuracy: 0.9993 - loss: 0.0111 - val_accuracy: 0.9858 - val_loss: 0.1401\n",
      "Epoch 11/20\n",
      "\u001b[1m45/45\u001b[0m \u001b[32m━━━━━━━━━━━━━━━━━━━━\u001b[0m\u001b[37m\u001b[0m \u001b[1m35s\u001b[0m 767ms/step - accuracy: 0.9965 - loss: 0.0195 - val_accuracy: 0.9688 - val_loss: 0.1660\n",
      "Epoch 12/20\n",
      "\u001b[1m45/45\u001b[0m \u001b[32m━━━━━━━━━━━━━━━━━━━━\u001b[0m\u001b[37m\u001b[0m \u001b[1m33s\u001b[0m 737ms/step - accuracy: 0.9943 - loss: 0.0236 - val_accuracy: 0.9830 - val_loss: 0.1572\n",
      "Epoch 13/20\n",
      "\u001b[1m45/45\u001b[0m \u001b[32m━━━━━━━━━━━━━━━━━━━━\u001b[0m\u001b[37m\u001b[0m \u001b[1m35s\u001b[0m 781ms/step - accuracy: 0.9957 - loss: 0.0164 - val_accuracy: 0.9801 - val_loss: 0.1339\n",
      "Epoch 14/20\n",
      "\u001b[1m45/45\u001b[0m \u001b[32m━━━━━━━━━━━━━━━━━━━━\u001b[0m\u001b[37m\u001b[0m \u001b[1m29s\u001b[0m 653ms/step - accuracy: 0.9965 - loss: 0.0117 - val_accuracy: 0.9716 - val_loss: 0.1978\n",
      "Epoch 15/20\n",
      "\u001b[1m45/45\u001b[0m \u001b[32m━━━━━━━━━━━━━━━━━━━━\u001b[0m\u001b[37m\u001b[0m \u001b[1m30s\u001b[0m 665ms/step - accuracy: 1.0000 - loss: 0.0055 - val_accuracy: 0.9830 - val_loss: 0.1572\n",
      "Epoch 16/20\n",
      "\u001b[1m45/45\u001b[0m \u001b[32m━━━━━━━━━━━━━━━━━━━━\u001b[0m\u001b[37m\u001b[0m \u001b[1m30s\u001b[0m 663ms/step - accuracy: 0.9993 - loss: 0.0052 - val_accuracy: 0.9858 - val_loss: 0.1542\n",
      "Epoch 17/20\n",
      "\u001b[1m45/45\u001b[0m \u001b[32m━━━━━━━━━━━━━━━━━━━━\u001b[0m\u001b[37m\u001b[0m \u001b[1m31s\u001b[0m 700ms/step - accuracy: 0.9979 - loss: 0.0078 - val_accuracy: 0.9830 - val_loss: 0.1464\n",
      "Epoch 18/20\n",
      "\u001b[1m45/45\u001b[0m \u001b[32m━━━━━━━━━━━━━━━━━━━━\u001b[0m\u001b[37m\u001b[0m \u001b[1m32s\u001b[0m 707ms/step - accuracy: 0.9979 - loss: 0.0073 - val_accuracy: 0.9858 - val_loss: 0.1565\n",
      "Epoch 19/20\n",
      "\u001b[1m45/45\u001b[0m \u001b[32m━━━━━━━━━━━━━━━━━━━━\u001b[0m\u001b[37m\u001b[0m \u001b[1m29s\u001b[0m 627ms/step - accuracy: 0.9979 - loss: 0.0075 - val_accuracy: 0.9744 - val_loss: 0.1947\n",
      "Epoch 20/20\n",
      "\u001b[1m45/45\u001b[0m \u001b[32m━━━━━━━━━━━━━━━━━━━━\u001b[0m\u001b[37m\u001b[0m \u001b[1m35s\u001b[0m 790ms/step - accuracy: 0.9979 - loss: 0.0112 - val_accuracy: 0.9830 - val_loss: 0.1503\n"
     ]
    },
    {
     "data": {
      "text/plain": [
       "<keras.src.callbacks.history.History at 0x18e87fa9160>"
      ]
     },
     "execution_count": 17,
     "metadata": {},
     "output_type": "execute_result"
    }
   ],
   "source": [
    "model.fit(train_data,validation_data=test_data,epochs=20)"
   ]
  },
  {
   "cell_type": "markdown",
   "id": "b7248516-0314-413a-b148-0a1123969cb5",
   "metadata": {},
   "source": [
    "# Accuracy score and Confusion Matrix"
   ]
  },
  {
   "cell_type": "code",
   "execution_count": 20,
   "id": "5ae56795-2d3a-4e0c-8006-ede8081aa074",
   "metadata": {},
   "outputs": [
    {
     "name": "stdout",
     "output_type": "stream",
     "text": [
      "\u001b[1m11/11\u001b[0m \u001b[32m━━━━━━━━━━━━━━━━━━━━\u001b[0m\u001b[37m\u001b[0m \u001b[1m6s\u001b[0m 529ms/step\n",
      "Accuracy: 98.30%\n"
     ]
    }
   ],
   "source": [
    "y_pred_probs = model.predict(test_data)\n",
    "import numpy as np\n",
    "\n",
    "y_pred = np.argmax(y_pred_probs, axis=1)  # predicted labels\n",
    "y_true = test_data.classes  # actual labels\n",
    "from sklearn.metrics import accuracy_score\n",
    "\n",
    "acc = accuracy_score(y_true, y_pred)\n",
    "print(f\"Accuracy: {acc*100:.2f}%\")\n"
   ]
  },
  {
   "cell_type": "markdown",
   "id": "a9732417-6902-4920-a304-63d51a7f6fff",
   "metadata": {},
   "source": [
    "# Save the model "
   ]
  },
  {
   "cell_type": "code",
   "execution_count": null,
   "id": "3b1df632-6fe1-4e07-82ab-b68539c5ef2b",
   "metadata": {},
   "outputs": [
    {
     "name": "stderr",
     "output_type": "stream",
     "text": [
      "WARNING:absl:You are saving your model as an HDF5 file via `model.save()` or `keras.saving.save_model(model)`. This file format is considered legacy. We recommend using instead the native Keras format, e.g. `model.save('my_model.keras')` or `keras.saving.save_model(model, 'my_model.keras')`. \n"
     ]
    }
   ],
   "source": [
    "model.save('../models/sign_language_model.h5')"
   ]
  },
  {
   "cell_type": "code",
   "execution_count": null,
   "id": "951ae5be-6946-40bc-8f07-7525f188ed32",
   "metadata": {},
   "outputs": [],
   "source": []
  }
 ],
 "metadata": {
  "kernelspec": {
   "display_name": "venv_py311 (3.11.9)",
   "language": "python",
   "name": "python3"
  },
  "language_info": {
   "codemirror_mode": {
    "name": "ipython",
    "version": 3
   },
   "file_extension": ".py",
   "mimetype": "text/x-python",
   "name": "python",
   "nbconvert_exporter": "python",
   "pygments_lexer": "ipython3",
   "version": "3.11.9"
  }
 },
 "nbformat": 4,
 "nbformat_minor": 5
}
